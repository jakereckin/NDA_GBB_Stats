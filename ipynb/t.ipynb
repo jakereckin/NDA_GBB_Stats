{
 "cells": [
  {
   "cell_type": "code",
   "execution_count": 1,
   "metadata": {},
   "outputs": [],
   "source": [
    "import gspread\n",
    "import streamlit as st\n",
    "from streamlit_gsheets import GSheetsConnection"
   ]
  },
  {
   "cell_type": "code",
   "execution_count": 2,
   "metadata": {},
   "outputs": [
    {
     "data": {
      "text/plain": [
       "'1.28.0'"
      ]
     },
     "execution_count": 2,
     "metadata": {},
     "output_type": "execute_result"
    }
   ],
   "source": [
    "st.__version__"
   ]
  },
  {
   "cell_type": "code",
   "execution_count": 3,
   "metadata": {},
   "outputs": [
    {
     "name": "stderr",
     "output_type": "stream",
     "text": [
      "2023-12-06 17:05:38.567 \n",
      "  \u001b[33m\u001b[1mWarning:\u001b[0m to view this Streamlit app on a browser, run it with the following\n",
      "  command:\n",
      "\n",
      "    streamlit run c:\\Users\\Jake\\Documents\\GitHub\\env\\lib\\site-packages\\ipykernel_launcher.py [ARGUMENTS]\n"
     ]
    },
    {
     "ename": "ValueError",
     "evalue": "Spreadsheet must be specified",
     "output_type": "error",
     "traceback": [
      "\u001b[1;31m---------------------------------------------------------------------------\u001b[0m",
      "\u001b[1;31mValueError\u001b[0m                                Traceback (most recent call last)",
      "\u001b[1;32mc:\\Users\\Jake\\Documents\\GitHub\\NDA_GBB_Stats\\ipynb\\t.ipynb Cell 3\u001b[0m line \u001b[0;36m4\n\u001b[0;32m      <a href='vscode-notebook-cell:/c%3A/Users/Jake/Documents/GitHub/NDA_GBB_Stats/ipynb/t.ipynb#W1sZmlsZQ%3D%3D?line=0'>1</a>\u001b[0m \u001b[39m# Create a connection object.\u001b[39;00m\n\u001b[0;32m      <a href='vscode-notebook-cell:/c%3A/Users/Jake/Documents/GitHub/NDA_GBB_Stats/ipynb/t.ipynb#W1sZmlsZQ%3D%3D?line=1'>2</a>\u001b[0m conn \u001b[39m=\u001b[39m st\u001b[39m.\u001b[39mconnection(\u001b[39m\"\u001b[39m\u001b[39mgsheets\u001b[39m\u001b[39m\"\u001b[39m, \u001b[39mtype\u001b[39m\u001b[39m=\u001b[39mGSheetsConnection)\n\u001b[1;32m----> <a href='vscode-notebook-cell:/c%3A/Users/Jake/Documents/GitHub/NDA_GBB_Stats/ipynb/t.ipynb#W1sZmlsZQ%3D%3D?line=3'>4</a>\u001b[0m df \u001b[39m=\u001b[39m conn\u001b[39m.\u001b[39;49mread()\n",
      "File \u001b[1;32mc:\\Users\\Jake\\Documents\\GitHub\\env\\lib\\site-packages\\streamlit_gsheets\\gsheets_connection.py:570\u001b[0m, in \u001b[0;36mGSheetsConnection.read\u001b[1;34m(self, spreadsheet, worksheet, ttl, max_entries, evaluate_formulas, folder_id, **options)\u001b[0m\n\u001b[0;32m    523\u001b[0m \u001b[39mdef\u001b[39;00m \u001b[39mread\u001b[39m(\n\u001b[0;32m    524\u001b[0m     \u001b[39mself\u001b[39m,\n\u001b[0;32m    525\u001b[0m     \u001b[39m*\u001b[39m,\n\u001b[1;32m   (...)\u001b[0m\n\u001b[0;32m    532\u001b[0m     \u001b[39m*\u001b[39m\u001b[39m*\u001b[39moptions,\n\u001b[0;32m    533\u001b[0m ) \u001b[39m-\u001b[39m\u001b[39m>\u001b[39m DataFrame:\n\u001b[0;32m    534\u001b[0m \u001b[39m    \u001b[39m\u001b[39m\"\"\"Returns the worksheet contents as a DataFrame.\u001b[39;00m\n\u001b[0;32m    535\u001b[0m \n\u001b[0;32m    536\u001b[0m \u001b[39m    Parameters\u001b[39;00m\n\u001b[1;32m   (...)\u001b[0m\n\u001b[0;32m    568\u001b[0m \u001b[39m    df: pandas.DataFrame.\u001b[39;00m\n\u001b[0;32m    569\u001b[0m \u001b[39m    \"\"\"\u001b[39;00m\n\u001b[1;32m--> 570\u001b[0m     \u001b[39mreturn\u001b[39;00m \u001b[39mself\u001b[39;49m\u001b[39m.\u001b[39;49mclient\u001b[39m.\u001b[39;49mread(\n\u001b[0;32m    571\u001b[0m         spreadsheet\u001b[39m=\u001b[39;49mspreadsheet,\n\u001b[0;32m    572\u001b[0m         worksheet\u001b[39m=\u001b[39;49mworksheet,\n\u001b[0;32m    573\u001b[0m         ttl\u001b[39m=\u001b[39;49mttl,\n\u001b[0;32m    574\u001b[0m         max_entries\u001b[39m=\u001b[39;49mmax_entries,\n\u001b[0;32m    575\u001b[0m         evaluate_formulas\u001b[39m=\u001b[39;49mevaluate_formulas,\n\u001b[0;32m    576\u001b[0m         folder_id\u001b[39m=\u001b[39;49mfolder_id,\n\u001b[0;32m    577\u001b[0m         \u001b[39m*\u001b[39;49m\u001b[39m*\u001b[39;49moptions,\n\u001b[0;32m    578\u001b[0m     )\n",
      "File \u001b[1;32mc:\\Users\\Jake\\Documents\\GitHub\\env\\lib\\site-packages\\streamlit_gsheets\\gsheets_connection.py:419\u001b[0m, in \u001b[0;36mGSheetsPublicSpreadsheetClient.read\u001b[1;34m(self, spreadsheet, worksheet, ttl, max_entries, **options)\u001b[0m\n\u001b[0;32m    416\u001b[0m spreadsheet \u001b[39m=\u001b[39m spreadsheet \u001b[39mor\u001b[39;00m \u001b[39mself\u001b[39m\u001b[39m.\u001b[39m_spreadsheet\n\u001b[0;32m    418\u001b[0m \u001b[39mif\u001b[39;00m \u001b[39mnot\u001b[39;00m spreadsheet:\n\u001b[1;32m--> 419\u001b[0m     \u001b[39mraise\u001b[39;00m \u001b[39mValueError\u001b[39;00m(\u001b[39m\"\u001b[39m\u001b[39mSpreadsheet must be specified\u001b[39m\u001b[39m\"\u001b[39m)\n\u001b[0;32m    421\u001b[0m \u001b[39mif\u001b[39;00m \u001b[39mnot\u001b[39;00m worksheet \u001b[39mand\u001b[39;00m \u001b[39mself\u001b[39m\u001b[39m.\u001b[39m_worksheet:\n\u001b[0;32m    422\u001b[0m     worksheet \u001b[39m=\u001b[39m \u001b[39mself\u001b[39m\u001b[39m.\u001b[39m_worksheet\n",
      "\u001b[1;31mValueError\u001b[0m: Spreadsheet must be specified"
     ]
    }
   ],
   "source": [
    "# Create a connection object.\n",
    "conn = st.connection(\"gsheets\", type=GSheetsConnection)\n",
    "\n",
    "df = conn.read()"
   ]
  }
 ],
 "metadata": {
  "kernelspec": {
   "display_name": "env",
   "language": "python",
   "name": "python3"
  },
  "language_info": {
   "codemirror_mode": {
    "name": "ipython",
    "version": 3
   },
   "file_extension": ".py",
   "mimetype": "text/x-python",
   "name": "python",
   "nbconvert_exporter": "python",
   "pygments_lexer": "ipython3",
   "version": "3.8.8"
  }
 },
 "nbformat": 4,
 "nbformat_minor": 2
}
